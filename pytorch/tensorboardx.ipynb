{
 "cells": [
  {
   "cell_type": "markdown",
   "metadata": {},
   "source": [
    "可视化"
   ]
  },
  {
   "cell_type": "code",
   "execution_count": null,
   "metadata": {},
   "outputs": [],
   "source": [
    "from torch.utils.tensorboard import SummaryWriter\n",
    "import numpy as np\n",
    "writer = SummaryWriter()\n",
    "for n_iter in range(100):\n",
    "    writer.add_scalar('Loss/train', np.random.random(), n_iter)\n",
    "    writer.add_scalar('Loss/test', np.random.random(), n_iter)\n",
    "    writer.add_scalar('Accuracy/train', np.random.random(), n_iter)\n",
    "img = np.zeros((3, 100, 100))\n",
    "img[0] = np.arange(0, 10000).reshape(100, 100) / 10000\n",
    "img[1] = 1 - np.arange(0, 10000).reshape(100, 100) / 10000\n",
    "\n",
    "writer.add_image('my_image', img, 0)\n",
    "writer.close()"
   ]
  },
  {
   "cell_type": "code",
   "execution_count": null,
   "metadata": {},
   "outputs": [],
   "source": [
    "from visdom import Visdom\n",
    "import numpy as np\n",
    "import time\n",
    "from torch import nn\n",
    "import torch\n",
    "import random\n",
    "\n",
    "# python3 -m visdom.server\n",
    "class LinearModel(nn.Module):\n",
    "    def __init__(self):\n",
    "        super().__init__()\n",
    "        self.weight = nn.Parameter(torch.randn(1))\n",
    "        self.bias = nn.Parameter(torch.randn(1))\n",
    "    def forward(self, input):\n",
    "        return (input * self.weight) + self.bias\n",
    "\n",
    "w = 2\n",
    "b = 3\n",
    "model = LinearModel()\n",
    "x_train = np.random.randint(low=-10, high=10, size=30)\n",
    "y_train = [w*x+b+random.randint(0,2) for x in x_train]\n",
    "optimizer = torch.optim.SGD(model.parameters(), lr=1e-4, weight_decay=1e-2, momentum=0.9)\n",
    "y_train = torch.tensor(y_train, dtype=torch.float32)\n",
    "\n",
    "viz = Visdom()\n",
    "viz.line([0.],[0], win='train_loss', opts=dict(title='train_loss'))\n",
    "\n",
    "for n_iter in range(1000):\n",
    "    input = torch.from_numpy(x_train)\n",
    "    output = model(input)\n",
    "    loss = nn.MSELoss()(output, y_train)\n",
    "    model.zero_grad()\n",
    "    loss.backward()\n",
    "    optimizer.step()\n",
    "    viz.line([loss.item()], [n_iter], win='train_loss', update='append')\n",
    "\n",
    "img = np.zeros((3,100,100))\n",
    "img[0] = np.arange(0, 10000).reshape(100, 100) / 10000\n",
    "viz.image(img)"
   ]
  }
 ],
 "metadata": {
  "kernelspec": {
   "display_name": "Python 3",
   "language": "python",
   "name": "python3"
  },
  "language_info": {
   "codemirror_mode": {
    "name": "ipython",
    "version": 3
   },
   "file_extension": ".py",
   "mimetype": "text/x-python",
   "name": "python",
   "nbconvert_exporter": "python",
   "pygments_lexer": "ipython3",
   "version": "3.9.6"
  }
 },
 "nbformat": 4,
 "nbformat_minor": 2
}
