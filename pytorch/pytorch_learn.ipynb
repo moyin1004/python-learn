{
 "cells": [
  {
   "cell_type": "markdown",
   "metadata": {},
   "source": [
    "python 3.12.2"
   ]
  },
  {
   "cell_type": "markdown",
   "metadata": {},
   "source": [
    "# tensor基础操作"
   ]
  },
  {
   "cell_type": "markdown",
   "metadata": {},
   "source": [
    "基础工具"
   ]
  },
  {
   "cell_type": "code",
   "execution_count": null,
   "metadata": {},
   "outputs": [],
   "source": [
    "from PIL import Image # Pillow\n",
    "import numpy as np\n",
    "from matplotlib import pyplot as plt\n",
    "\n",
    "im = Image.open(\"./jk.png\")\n",
    "im_pillow = np.asarray(im) # 浅拷贝\n",
    "print(im_pillow.shape)\n",
    "im_pillow_c1 = im_pillow[:,:,0]\n",
    "print(im_pillow_c1.shape)\n",
    "im_pillow_c2 = im_pillow[:,:,1]\n",
    "im_pillow_c3 = im_pillow[:,:,2]\n",
    "plt.subplot(2, 2, 1)\n",
    "plt.imshow(im_pillow)\n",
    "imzero = np.zeros((im_pillow.shape[0], im_pillow.shape[1], 2))\n",
    "data = np.concatenate((im_pillow_c1[:,:,np.newaxis], imzero), axis=2)\n",
    "print(data.dtype)\n",
    "# plt.imshow(data) 需要元素是uint8类型\n",
    "plt.subplot(2, 2, 2)\n",
    "plt.imshow(data.astype(np.uint8))\n",
    "im_pillow_c2_3ch = np.zeros((im_pillow.shape[0], im_pillow.shape[1], 3))\n",
    "print(im_pillow_c2_3ch.shape)\n",
    "im_pillow_c2_3ch[:,:,1] = im_pillow_c2[:,:]\n",
    "plt.subplot(2, 2, 3)\n",
    "plt.imshow(im_pillow_c2_3ch.astype(np.uint8))\n",
    "data = np.concatenate((imzero, im_pillow_c3[:,:,np.newaxis]), axis=2)\n",
    "plt.subplot(2, 2, 4)\n",
    "plt.imshow(data.astype(np.uint8))\n",
    "plt.show()"
   ]
  },
  {
   "cell_type": "code",
   "execution_count": null,
   "metadata": {},
   "outputs": [],
   "source": [
    "import cv2\n",
    "im_cv2 = cv2.imread('./jk.png')\n",
    "type(im_cv2)\n",
    "\n",
    "im_cv2.shape"
   ]
  },
  {
   "cell_type": "markdown",
   "metadata": {},
   "source": [
    "numpy"
   ]
  },
  {
   "cell_type": "code",
   "execution_count": null,
   "metadata": {},
   "outputs": [],
   "source": [
    "import numpy as np\n",
    "a = np.arange(6)\n",
    "print(a.shape)\n",
    "\n",
    "b = a.view() # 浅拷贝\n",
    "print(b.shape)\n",
    "b.shape = 2,3\n",
    "b[0,0] = 100\n",
    "\n",
    "print(a)\n",
    "print(b)\n",
    "\n",
    "b = np.array(b) # 深拷贝\n",
    "b[0,0] = 20\n",
    "print(a, b, sep='\\n')"
   ]
  },
  {
   "cell_type": "markdown",
   "metadata": {},
   "source": [
    "tensor连接操作"
   ]
  },
  {
   "cell_type": "code",
   "execution_count": null,
   "metadata": {},
   "outputs": [],
   "source": [
    "import torch\n",
    "A = torch.arange(0,4)\n",
    "B = torch.arange(5,9)\n",
    "print(A.shape)\n",
    "C = torch.stack((A,B),0)\n",
    "print(C)\n",
    "D = torch.stack((A,B),1)\n",
    "print(D)\n",
    "print(torch.stack((A,B),-1)) # 负数倒数维度\n",
    "print(D == torch.stack((A,B),-1))\n",
    "print(torch.stack((A,B),-2))"
   ]
  },
  {
   "cell_type": "markdown",
   "metadata": {},
   "source": [
    "tensor切分操作"
   ]
  },
  {
   "cell_type": "code",
   "execution_count": null,
   "metadata": {},
   "outputs": [],
   "source": [
    "A = torch.tensor(range(1,11))\n",
    "B = torch.chunk(A, 2, 0)\n",
    "print(B)\n",
    "B = torch.chunk(A, 3, 0) # 除法 向上取整\n",
    "print(B)\n",
    "A = torch.tensor([1,2,3])\n",
    "B = torch.chunk(A,5,0)\n",
    "print(B)"
   ]
  },
  {
   "cell_type": "code",
   "execution_count": null,
   "metadata": {},
   "outputs": [],
   "source": [
    "A = torch.rand(4,4)\n",
    "B = torch.split(A,2,0)\n",
    "print(B)\n",
    "C = torch.split(A,3,0)\n",
    "\n",
    "A = torch.rand(5,4)\n",
    "B = torch.split(A,(2,2,1),0) # 为列表时 按数字切分\n",
    "print(B)"
   ]
  },
  {
   "cell_type": "markdown",
   "metadata": {},
   "source": [
    "tensor降维切分"
   ]
  },
  {
   "cell_type": "code",
   "execution_count": null,
   "metadata": {},
   "outputs": [],
   "source": [
    "A = torch.arange(0,16).view(4,4)\n",
    "print(A)\n",
    "b = torch.unbind(A, 0)\n",
    "print(b)"
   ]
  },
  {
   "cell_type": "markdown",
   "metadata": {},
   "source": [
    "tensor索引操作"
   ]
  },
  {
   "cell_type": "code",
   "execution_count": null,
   "metadata": {},
   "outputs": [],
   "source": [
    "A = torch.arange(0,16).view(4,4)\n",
    "B = torch.index_select(A,0,torch.tensor([1,3]))\n",
    "print(B)\n",
    "C = torch.index_select(A,1,torch.tensor([0,3]))\n",
    "print(C)"
   ]
  },
  {
   "cell_type": "code",
   "execution_count": null,
   "metadata": {},
   "outputs": [],
   "source": [
    "A = torch.rand(6)\n",
    "C = torch.masked_select(A, A>0.3)\n",
    "print(C)"
   ]
  },
  {
   "cell_type": "markdown",
   "metadata": {},
   "source": [
    "数据读取"
   ]
  },
  {
   "cell_type": "code",
   "execution_count": null,
   "metadata": {},
   "outputs": [],
   "source": [
    "import torch\n",
    "from torch.utils.data import Dataset\n",
    "from torch.utils.data import DataLoader\n",
    "class MyDataset(Dataset):\n",
    "    def __init__(self, data_tensor:torch.Tensor, target_tensor:torch.Tensor):\n",
    "        self.data_tensor = data_tensor\n",
    "        self.target_tensor = target_tensor\n",
    "    def __len__(self) -> int:\n",
    "        return self.data_tensor.size(0)\n",
    "    def __getitem__(self, index) -> tuple[torch.Tensor, torch.Tensor]:\n",
    "        return self.data_tensor[index], self.target_tensor[index]\n",
    "\n",
    "data_tensor = torch.randn(10, 3)\n",
    "target_tensor = torch.randint(2, (10,))\n",
    "my_dataset = MyDataset(data_tensor, target_tensor)\n",
    "print(len(my_dataset))\n",
    "print(target_tensor, my_dataset[0])\n",
    "data = DataLoader(dataset=my_dataset, batch_size=2, shuffle=True, num_workers=0)\n",
    "for data, target in data:\n",
    "    print(data, target)"
   ]
  },
  {
   "cell_type": "markdown",
   "metadata": {},
   "source": [
    "---\n",
    "# torchvision"
   ]
  },
  {
   "cell_type": "code",
   "execution_count": null,
   "metadata": {},
   "outputs": [],
   "source": [
    "import torchvision\n",
    "mnist_dataset = torchvision.datasets.MNIST(root=\"../../data\", train=True, \n",
    "        transform=None, target_transform=None, download=True)\n",
    "display(mnist_dataset[0][0])\n",
    "print(mnist_dataset[0][1])"
   ]
  },
  {
   "cell_type": "code",
   "execution_count": null,
   "metadata": {},
   "outputs": [],
   "source": [
    "from PIL import Image\n",
    "from torchvision import transforms\n",
    "img = Image.open('jk.png')\n",
    "display(img)\n",
    "print(type(img))\n",
    "\n",
    "imgl = transforms.ToTensor()(img)\n",
    "print(type(imgl))\n",
    "\n",
    "img2 = transforms.ToPILImage()(imgl)\n",
    "print(type(img2))\n",
    "resize_func = transforms.Resize((200,200), interpolation=2)\n",
    "new_img = resize_func(img)\n",
    "display(new_img)\n",
    "\n",
    "# 剪裁\n",
    "new_img = transforms.CenterCrop((60,70))(img)\n",
    "display(new_img)\n",
    "new_img = transforms.RandomCrop((80,80))(img)\n",
    "display(new_img)\n",
    "new_imgs = transforms.FiveCrop((60,70))(img)\n",
    "for data in new_imgs:\n",
    "    display(data)"
   ]
  },
  {
   "cell_type": "code",
   "execution_count": null,
   "metadata": {},
   "outputs": [],
   "source": [
    "# 翻转\n",
    "from PIL import Image\n",
    "from torchvision import transforms\n",
    "img = Image.open('jk.png')\n",
    "\n",
    "new_img = transforms.RandomHorizontalFlip(p=1)(img)\n",
    "display(new_img)\n",
    "new_img = transforms.RandomVerticalFlip(p=1)(img)\n",
    "display(new_img)"
   ]
  },
  {
   "cell_type": "code",
   "execution_count": null,
   "metadata": {},
   "outputs": [],
   "source": [
    "from PIL import Image\n",
    "from torchvision import transforms\n",
    "\n",
    "# 标准化\n",
    "img = Image.open('jk.png')\n",
    "print(transforms.ToTensor()(img).shape)\n",
    "# RGBA\n",
    "data = transforms.ToTensor()(img).index_select(0,torch.tensor([0,1,2]))\n",
    "print(data.shape)\n",
    "new_img = transforms.Normalize((0.5,0.5,0.5),(0.5,0.5,0.5))(data)\n",
    "display(transforms.ToPILImage()(new_img))"
   ]
  },
  {
   "cell_type": "code",
   "execution_count": null,
   "metadata": {},
   "outputs": [],
   "source": [
    "from PIL import Image\n",
    "from torchvision import transforms\n",
    "\n",
    "# 组合变换\n",
    "img = Image.open('jk.png')\n",
    "composed = transforms.Compose([transforms.Resize((200,200)), transforms.RandomCrop(80)])\n",
    "display(composed(img))"
   ]
  },
  {
   "cell_type": "code",
   "execution_count": null,
   "metadata": {},
   "outputs": [],
   "source": [
    "import torchvision\n",
    "from torchvision import transforms\n",
    "from torch.utils.data import DataLoader\n",
    "composed = transforms.Compose([transforms.ToTensor(), transforms.Normalize((0.5),(0.5))])\n",
    "mnist_dataset = torchvision.datasets.MNIST(root=\"../../data\", train=False, \n",
    "        transform=composed, target_transform=None, download=True)\n",
    "item = mnist_dataset.__getitem__(0)\n",
    "print(type(item))\n",
    "print(type(item[0]), item[0].shape)\n",
    "display(transforms.ToPILImage()(item[0]), item[1])\n",
    "tensor_dataloader = DataLoader(dataset=mnist_dataset, batch_size=32)\n",
    "img_tensor, label_tensor = (iter(tensor_dataloader))._next_data()\n",
    "grid_tensor = torchvision.utils.make_grid(img_tensor, nrow=8, padding=2)\n",
    "display(transforms.ToPILImage()(grid_tensor))\n",
    "torchvision.utils.save_image(grid_tensor, \"img.jpg\")"
   ]
  },
  {
   "cell_type": "markdown",
   "metadata": {},
   "source": [
    "常见网络模型"
   ]
  },
  {
   "cell_type": "code",
   "execution_count": null,
   "metadata": {},
   "outputs": [],
   "source": [
    "import torch\n",
    "import torchvision.models as models\n",
    "googlenet = models.googlenet(pretrained=True)\n",
    "# fine-tuning\n",
    "# 分类层输入参数\n",
    "fc_in_features = googlenet.fc.in_features\n",
    "print(\"fc_in_features:\", fc_in_features)\n",
    "# 分类层输入参数\n",
    "fc_out_features = googlenet.fc.out_features\n",
    "print(\"fc_out_features:\", fc_out_features)\n",
    "googlenet.fc = torch.nn.Linear(fc_in_features, 10)"
   ]
  }
 ],
 "metadata": {
  "kernelspec": {
   "display_name": "Python 3",
   "language": "python",
   "name": "python3"
  },
  "language_info": {
   "codemirror_mode": {
    "name": "ipython",
    "version": 3
   },
   "file_extension": ".py",
   "mimetype": "text/x-python",
   "name": "python",
   "nbconvert_exporter": "python",
   "pygments_lexer": "ipython3",
   "version": "3.9.6"
  }
 },
 "nbformat": 4,
 "nbformat_minor": 4
}
